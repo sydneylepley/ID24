{
 "cells": [
  {
   "cell_type": "code",
   "execution_count": 1,
   "id": "13316421-abb3-49c3-8406-c86afa70c552",
   "metadata": {},
   "outputs": [],
   "source": [
    "import pandas as pd"
   ]
  },
  {
   "cell_type": "code",
   "execution_count": 2,
   "id": "1eddf1c4-d395-4fb9-b73f-d95b7dfd7e5b",
   "metadata": {},
   "outputs": [
    {
     "data": {
      "text/plain": [
       "pandas.core.frame.DataFrame"
      ]
     },
     "execution_count": 2,
     "metadata": {},
     "output_type": "execute_result"
    }
   ],
   "source": [
    "pd.DataFrame"
   ]
  },
  {
   "cell_type": "code",
   "execution_count": 10,
   "id": "97accec5-a45d-4702-8548-fddda7bab8c6",
   "metadata": {},
   "outputs": [],
   "source": [
    "json_my_data = [{'Friday' : 8, 'Saturday' : 14, 'Sunday' : 2}, {'Friday' : 6, 'Saturday' : 12, 'Sunday' : 6}, {'Friday' : 10, 'Saturday' : 12, 'Sunday' : 4}]"
   ]
  },
  {
   "cell_type": "code",
   "execution_count": 11,
   "id": "5e511246-cd57-4bda-ab90-256543884d19",
   "metadata": {},
   "outputs": [],
   "source": [
    "my_data = pd.DataFrame(json_my_data)"
   ]
  },
  {
   "cell_type": "code",
   "execution_count": 12,
   "id": "899ef70e-acda-453e-87d2-1fa83d24b209",
   "metadata": {},
   "outputs": [
    {
     "data": {
      "text/html": [
       "<div>\n",
       "<style scoped>\n",
       "    .dataframe tbody tr th:only-of-type {\n",
       "        vertical-align: middle;\n",
       "    }\n",
       "\n",
       "    .dataframe tbody tr th {\n",
       "        vertical-align: top;\n",
       "    }\n",
       "\n",
       "    .dataframe thead th {\n",
       "        text-align: right;\n",
       "    }\n",
       "</style>\n",
       "<table border=\"1\" class=\"dataframe\">\n",
       "  <thead>\n",
       "    <tr style=\"text-align: right;\">\n",
       "      <th></th>\n",
       "      <th>Friday</th>\n",
       "      <th>Saturday</th>\n",
       "      <th>Sunday</th>\n",
       "    </tr>\n",
       "  </thead>\n",
       "  <tbody>\n",
       "    <tr>\n",
       "      <th>0</th>\n",
       "      <td>8</td>\n",
       "      <td>14</td>\n",
       "      <td>2</td>\n",
       "    </tr>\n",
       "    <tr>\n",
       "      <th>1</th>\n",
       "      <td>6</td>\n",
       "      <td>12</td>\n",
       "      <td>6</td>\n",
       "    </tr>\n",
       "    <tr>\n",
       "      <th>2</th>\n",
       "      <td>10</td>\n",
       "      <td>12</td>\n",
       "      <td>4</td>\n",
       "    </tr>\n",
       "  </tbody>\n",
       "</table>\n",
       "</div>"
      ],
      "text/plain": [
       "   Friday  Saturday  Sunday\n",
       "0       8        14       2\n",
       "1       6        12       6\n",
       "2      10        12       4"
      ]
     },
     "execution_count": 12,
     "metadata": {},
     "output_type": "execute_result"
    }
   ],
   "source": [
    "my_data"
   ]
  },
  {
   "cell_type": "code",
   "execution_count": 13,
   "id": "1238d5d7-1d10-4a6a-97b9-197083a4b323",
   "metadata": {},
   "outputs": [
    {
     "data": {
      "text/html": [
       "<div>\n",
       "<style scoped>\n",
       "    .dataframe tbody tr th:only-of-type {\n",
       "        vertical-align: middle;\n",
       "    }\n",
       "\n",
       "    .dataframe tbody tr th {\n",
       "        vertical-align: top;\n",
       "    }\n",
       "\n",
       "    .dataframe thead th {\n",
       "        text-align: right;\n",
       "    }\n",
       "</style>\n",
       "<table border=\"1\" class=\"dataframe\">\n",
       "  <thead>\n",
       "    <tr style=\"text-align: right;\">\n",
       "      <th></th>\n",
       "      <th>Friday</th>\n",
       "      <th>Saturday</th>\n",
       "      <th>Sunday</th>\n",
       "    </tr>\n",
       "  </thead>\n",
       "  <tbody>\n",
       "    <tr>\n",
       "      <th>0</th>\n",
       "      <td>8</td>\n",
       "      <td>14</td>\n",
       "      <td>2</td>\n",
       "    </tr>\n",
       "  </tbody>\n",
       "</table>\n",
       "</div>"
      ],
      "text/plain": [
       "   Friday  Saturday  Sunday\n",
       "0       8        14       2"
      ]
     },
     "execution_count": 13,
     "metadata": {},
     "output_type": "execute_result"
    }
   ],
   "source": [
    "my_data.head(1)"
   ]
  },
  {
   "cell_type": "code",
   "execution_count": 14,
   "id": "f6d0f0d3-a03f-48e8-8b40-13eb50f52af7",
   "metadata": {},
   "outputs": [
    {
     "data": {
      "text/plain": [
       "RangeIndex(start=0, stop=3, step=1)"
      ]
     },
     "execution_count": 14,
     "metadata": {},
     "output_type": "execute_result"
    }
   ],
   "source": [
    "my_data.index"
   ]
  },
  {
   "cell_type": "code",
   "execution_count": 19,
   "id": "8543296d-a654-44a6-9080-d41278de1ee9",
   "metadata": {},
   "outputs": [
    {
     "data": {
      "text/plain": [
       "0     8\n",
       "1     6\n",
       "2    10\n",
       "Name: Friday, dtype: int64"
      ]
     },
     "execution_count": 19,
     "metadata": {},
     "output_type": "execute_result"
    }
   ],
   "source": [
    "my_data['Friday']"
   ]
  },
  {
   "cell_type": "code",
   "execution_count": 18,
   "id": "21eed161-ac2b-4d8e-bfb7-cf777fe9f341",
   "metadata": {},
   "outputs": [
    {
     "data": {
      "text/plain": [
       "Friday       8\n",
       "Saturday    14\n",
       "Sunday       2\n",
       "Name: 0, dtype: int64"
      ]
     },
     "execution_count": 18,
     "metadata": {},
     "output_type": "execute_result"
    }
   ],
   "source": [
    "my_data.iloc[0]"
   ]
  },
  {
   "cell_type": "code",
   "execution_count": 21,
   "id": "0995db6a-05ff-474d-95b0-a782c4ed8c9b",
   "metadata": {},
   "outputs": [],
   "source": [
    "my_data.to_csv('copy_my_data.csv')"
   ]
  },
  {
   "cell_type": "code",
   "execution_count": 22,
   "id": "b2df6890-d236-4656-aa27-f297827b7935",
   "metadata": {},
   "outputs": [
    {
     "name": "stdout",
     "output_type": "stream",
     "text": [
      "Lepley_SystemsCheck.ipynb       pandas Challenge example.ipynb\n",
      "cces_example_data.csv           pandas Challenge.ipynb\n",
      "copy_my_data.csv                pexels-lukas-669623.jpg\n",
      "inclass 1_29.ipynb              subset_cces_example_data.csv\n"
     ]
    }
   ],
   "source": [
    "ls"
   ]
  },
  {
   "cell_type": "markdown",
   "id": "6045ccb6-a406-4be0-9121-c4bdccc7aae0",
   "metadata": {},
   "source": [
    "\n",
    "\n",
    "\n",
    "## Why are dynamic, interactive data visualizations useful when communicating data?\n",
    "\n",
    "- Interactive data visualizations are useful when communicating data because they can encourage engagement with the data in ways that static images cannot. The text also argues that interactive data visualizations can engage audiences who otherwise may not care about the topic or data. "
   ]
  },
  {
   "cell_type": "code",
   "execution_count": null,
   "id": "a8bf6239-c67b-422b-ab0e-ceb9a238fe4b",
   "metadata": {},
   "outputs": [],
   "source": []
  }
 ],
 "metadata": {
  "kernelspec": {
   "display_name": "Python 3 (ipykernel)",
   "language": "python",
   "name": "python3"
  },
  "language_info": {
   "codemirror_mode": {
    "name": "ipython",
    "version": 3
   },
   "file_extension": ".py",
   "mimetype": "text/x-python",
   "name": "python",
   "nbconvert_exporter": "python",
   "pygments_lexer": "ipython3",
   "version": "3.12.1"
  }
 },
 "nbformat": 4,
 "nbformat_minor": 5
}
