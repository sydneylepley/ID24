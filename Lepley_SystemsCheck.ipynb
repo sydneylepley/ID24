{
 "cells": [
  {
   "cell_type": "code",
   "execution_count": 1,
   "id": "b02578d9-491e-423f-afac-41dcd38d5ff7",
   "metadata": {},
   "outputs": [
    {
     "data": {
      "text/plain": [
       "8"
      ]
     },
     "execution_count": 1,
     "metadata": {},
     "output_type": "execute_result"
    }
   ],
   "source": [
    "3+5"
   ]
  },
  {
   "cell_type": "markdown",
   "id": "d803e417-35ef-4698-9692-3c1c47bc7bae",
   "metadata": {},
   "source": [
    "## Systems Check *Interactive Data*\n",
    "- **Hello!** I am excited to be taking Interactive Data this semester.\n",
    "- I have very little experience working with large quantities of data, so I am interested in learning- specifically concerning creative ways to display and work with data.\n",
    "- Another interest I have is learning Python. This is another new skill for me so I am looking forward to learning and seeing how we use Python in class.\n",
    "  \n",
    "![](pexels-lukas-669623.jpg)\n"
   ]
  },
  {
   "cell_type": "markdown",
   "id": "aa19e6b1-398d-47c7-bf3a-1f29793baaa1",
   "metadata": {},
   "source": [
    "[links](https://kent.instructure.com/courses/79067/pages/week-1-required-materials?module_item_id=3895478)"
   ]
  },
  {
   "cell_type": "code",
   "execution_count": 2,
   "id": "d39979fc-0d09-4176-9765-5ff1e766df53",
   "metadata": {},
   "outputs": [],
   "source": [
    "x = 5"
   ]
  },
  {
   "cell_type": "code",
   "execution_count": 3,
   "id": "da459616-43e0-4c3e-86d7-eb3bb4a83b8c",
   "metadata": {},
   "outputs": [
    {
     "data": {
      "text/plain": [
       "5"
      ]
     },
     "execution_count": 3,
     "metadata": {},
     "output_type": "execute_result"
    }
   ],
   "source": [
    "x"
   ]
  },
  {
   "cell_type": "code",
   "execution_count": 4,
   "id": "575566b1-20e4-43ea-900a-a40742a91295",
   "metadata": {},
   "outputs": [
    {
     "name": "stdout",
     "output_type": "stream",
     "text": [
      "5\n"
     ]
    }
   ],
   "source": [
    "print(x)"
   ]
  },
  {
   "cell_type": "code",
   "execution_count": 5,
   "id": "bee121f1-a28a-446f-8917-19d8a78a1fe0",
   "metadata": {},
   "outputs": [
    {
     "name": "stdout",
     "output_type": "stream",
     "text": [
      "1\n",
      "2\n",
      "3\n",
      "4\n",
      "5\n"
     ]
    }
   ],
   "source": [
    "for i in [1,2,3,4]:\n",
    "    print(i)\n",
    "\n",
    "for i in [x]:\n",
    "    print(i)"
   ]
  },
  {
   "cell_type": "code",
   "execution_count": 11,
   "id": "3dbd9ac8-2945-44cb-9b7b-6240dab2eefb",
   "metadata": {},
   "outputs": [],
   "source": [
    "def say_hello(x):\n",
    "    print(\"Hello \" + str(x))"
   ]
  },
  {
   "cell_type": "code",
   "execution_count": 12,
   "id": "0394bfd4-2753-49af-a5ef-2705b5ede51f",
   "metadata": {},
   "outputs": [
    {
     "name": "stdout",
     "output_type": "stream",
     "text": [
      "Hello Sydney\n"
     ]
    }
   ],
   "source": [
    "say_hello(\"Sydney\")"
   ]
  },
  {
   "cell_type": "code",
   "execution_count": 16,
   "id": "75f8f947-ded3-4d5c-9065-b1fbaa76cdaf",
   "metadata": {},
   "outputs": [],
   "source": [
    "def return_hello(x):\n",
    "    y =\"Hello \" + x\n",
    "    return y"
   ]
  },
  {
   "cell_type": "code",
   "execution_count": 22,
   "id": "f8e77a43-cb9b-4050-bbaf-89824da7fbf0",
   "metadata": {},
   "outputs": [],
   "source": [
    "hey = return_hello(\"Sydney\")"
   ]
  },
  {
   "cell_type": "code",
   "execution_count": 23,
   "id": "81ea4676-59a8-4896-ad89-1fe98665226a",
   "metadata": {},
   "outputs": [
    {
     "data": {
      "text/plain": [
       "'Hello Sydney'"
      ]
     },
     "execution_count": 23,
     "metadata": {},
     "output_type": "execute_result"
    }
   ],
   "source": [
    "hey"
   ]
  },
  {
   "cell_type": "code",
   "execution_count": null,
   "id": "3ae950e2-13b4-4e7c-90d2-73406c605461",
   "metadata": {},
   "outputs": [],
   "source": []
  }
 ],
 "metadata": {
  "kernelspec": {
   "display_name": "Python 3 (ipykernel)",
   "language": "python",
   "name": "python3"
  },
  "language_info": {
   "codemirror_mode": {
    "name": "ipython",
    "version": 3
   },
   "file_extension": ".py",
   "mimetype": "text/x-python",
   "name": "python",
   "nbconvert_exporter": "python",
   "pygments_lexer": "ipython3",
   "version": "3.12.1"
  }
 },
 "nbformat": 4,
 "nbformat_minor": 5
}
